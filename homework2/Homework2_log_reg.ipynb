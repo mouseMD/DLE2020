{
  "nbformat": 4,
  "nbformat_minor": 0,
  "metadata": {
    "kernelspec": {
      "display_name": "Python 3",
      "language": "python",
      "name": "python3"
    },
    "language_info": {
      "codemirror_mode": {
        "name": "ipython",
        "version": 3
      },
      "file_extension": ".py",
      "mimetype": "text/x-python",
      "name": "python",
      "nbconvert_exporter": "python",
      "pygments_lexer": "ipython3",
      "version": "3.6.3"
    },
    "colab": {
      "name": "Homework2_log_reg.ipynb",
      "provenance": [],
      "collapsed_sections": []
    }
  },
  "cells": [
    {
      "cell_type": "code",
      "metadata": {
        "id": "78Jiopj7Z8uI",
        "colab_type": "code",
        "colab": {}
      },
      "source": [
        "import torch\n",
        "import torch.nn as nn\n",
        "import torch.nn.functional as F\n",
        "import torch.optim as optim\n",
        "\n",
        "import numpy as np\n",
        "import scipy.stats as stats\n",
        "import matplotlib.pyplot as plt\n",
        "\n",
        "%matplotlib inline"
      ],
      "execution_count": 0,
      "outputs": []
    },
    {
      "cell_type": "code",
      "metadata": {
        "id": "jnBOHoBTZ8uM",
        "colab_type": "code",
        "colab": {}
      },
      "source": [
        "# параметры распределений\n",
        "mu0 = [-1.0, -2.0]\n",
        "cov0 = [[1.0, 0.0], [0.0, 1.0]]\n",
        "\n",
        "mu1 = [3.0, 3.0]\n",
        "cov1 = [[1.5, 1.0], [1.0, 1.5]]"
      ],
      "execution_count": 0,
      "outputs": []
    },
    {
      "cell_type": "code",
      "metadata": {
        "id": "zvzckKnZZ8uP",
        "colab_type": "code",
        "colab": {}
      },
      "source": [
        "def sample(d0, d1, n=32):\n",
        "    x0 = d0.sample((n,))\n",
        "    x1 = d1.sample((n,))\n",
        "    y0 = torch.zeros((n, 1))\n",
        "    y1 = torch.ones((n, 1))\n",
        "    return torch.cat([x0, x1], 0), torch.cat([y0, y1], 0)"
      ],
      "execution_count": 0,
      "outputs": []
    },
    {
      "cell_type": "code",
      "metadata": {
        "id": "SXqcp3aEZ8uS",
        "colab_type": "code",
        "colab": {}
      },
      "source": [
        "d0 = torch.distributions.MultivariateNormal(torch.tensor(mu0), torch.tensor(cov0))\n",
        "d1 = torch.distributions.MultivariateNormal(torch.tensor(mu1), torch.tensor(cov1))"
      ],
      "execution_count": 0,
      "outputs": []
    },
    {
      "cell_type": "code",
      "metadata": {
        "id": "CFDnQnxpPMz5",
        "colab_type": "code",
        "colab": {
          "base_uri": "https://localhost:8080/",
          "height": 283
        },
        "outputId": "478c39ca-9541-46bc-dbe6-68714c199f08"
      },
      "source": [
        "X_s, y_s = sample(d0, d1,100)\n",
        "plt.scatter(X_s[:,0], X_s[:,1], c=y_s)"
      ],
      "execution_count": 5,
      "outputs": [
        {
          "output_type": "execute_result",
          "data": {
            "text/plain": [
              "<matplotlib.collections.PathCollection at 0x7f0850873f60>"
            ]
          },
          "metadata": {
            "tags": []
          },
          "execution_count": 5
        },
        {
          "output_type": "display_data",
          "data": {
            "image/png": "[encoded data removed]",
            "text/plain": [
              "<Figure size 432x288 with 1 Axes>"
            ]
          },
          "metadata": {
            "tags": [],
            "needs_background": "light"
          }
        }
      ]
    },
    {
      "cell_type": "code",
      "metadata": {
        "id": "uRqKsdhiZ8uU",
        "colab_type": "code",
        "outputId": "4b0a9099-3245-416c-c4eb-38d3a840c874",
        "colab": {
          "base_uri": "https://localhost:8080/",
          "height": 35
        }
      },
      "source": [
        "layer = nn.Linear(2, 1)\n",
        "print([p.data[0] for p in layer.parameters()])\n",
        "layer_opt = optim.SGD(lr=1e-3, params=list(layer.parameters()))"
      ],
      "execution_count": 6,
      "outputs": [
        {
          "output_type": "stream",
          "text": [
            "[tensor([0.2270, 0.1383]), tensor(-0.5938)]\n"
          ],
          "name": "stdout"
        }
      ]
    },
    {
      "cell_type": "code",
      "metadata": {
        "id": "SuW5sS22Z8uX",
        "colab_type": "code",
        "outputId": "65fe2ea6-312f-458b-fdb8-ba373bc69631",
        "colab": {
          "base_uri": "https://localhost:8080/",
          "height": 364
        }
      },
      "source": [
        "log_freq = 500\n",
        "for i in range(10000):\n",
        "    if i%log_freq == 0:\n",
        "        with torch.no_grad():\n",
        "            x, y = sample(d0, d1, 100000)\n",
        "            out = torch.sigmoid(layer(x))\n",
        "            loss = F.binary_cross_entropy(out, y)\n",
        "        print('Ошибка после %d итераций: %f' %(i/log_freq, loss))\n",
        "    layer_opt.zero_grad()\n",
        "    x, y = sample(d0, d1, 1024)\n",
        "    out = torch.sigmoid(layer(x))\n",
        "    loss = F.binary_cross_entropy(out, y)\n",
        "    loss.backward()\n",
        "    layer_opt.step()"
      ],
      "execution_count": 7,
      "outputs": [
        {
          "output_type": "stream",
          "text": [
            "Ошибка после 0 итераций: 0.393620\n",
            "Ошибка после 1 итераций: 0.189269\n",
            "Ошибка после 2 итераций: 0.135851\n",
            "Ошибка после 3 итераций: 0.110313\n",
            "Ошибка после 4 итераций: 0.095273\n",
            "Ошибка после 5 итераций: 0.084799\n",
            "Ошибка после 6 итераций: 0.076305\n",
            "Ошибка после 7 итераций: 0.071196\n",
            "Ошибка после 8 итераций: 0.065821\n",
            "Ошибка после 9 итераций: 0.062839\n",
            "Ошибка после 10 итераций: 0.059491\n",
            "Ошибка после 11 итераций: 0.056294\n",
            "Ошибка после 12 итераций: 0.054603\n",
            "Ошибка после 13 итераций: 0.051662\n",
            "Ошибка после 14 итераций: 0.050860\n",
            "Ошибка после 15 итераций: 0.048280\n",
            "Ошибка после 16 итераций: 0.047579\n",
            "Ошибка после 17 итераций: 0.046227\n",
            "Ошибка после 18 итераций: 0.044743\n",
            "Ошибка после 19 итераций: 0.044139\n"
          ],
          "name": "stdout"
        }
      ]
    },
    {
      "cell_type": "code",
      "metadata": {
        "id": "P7cb_DkPVfkU",
        "colab_type": "code",
        "colab": {
          "base_uri": "https://localhost:8080/",
          "height": 336
        },
        "outputId": "a0feb6b3-9ef6-4b3e-f0c5-3defc5b6dde7"
      },
      "source": [
        "x, y = np.mgrid[-6:6:.1, -6:6:.1]\n",
        "pos = np.empty(x.shape + (2,))\n",
        "pos[:, :, 0] = x \n",
        "pos[:, :, 1] = y\n",
        "d0_pdf = stats.multivariate_normal.pdf(pos, mu0, cov0)\n",
        "d1_pdf = stats.multivariate_normal.pdf(pos, mu1, cov1)\n",
        "fig, (ax1, ax2) = plt.subplots(ncols=2, figsize=(15, 5))\n",
        "cntr1 = ax1.contourf(x, y, d0_pdf, levels=10, cmap=\"RdBu_r\")\n",
        "fig.colorbar(cntr1, ax=ax1)\n",
        "ax1.set_title('d0_pdf')\n",
        "cntr2 = ax2.contourf(x, y, d1_pdf, levels=10, cmap=\"RdBu_r\")\n",
        "fig.colorbar(cntr2, ax=ax2)\n",
        "ax2.set_title('d1_pdf')\n",
        "plt.subplots_adjust(wspace=0.5)"
      ],
      "execution_count": 8,
      "outputs": [
        {
          "output_type": "display_data",
          "data": {
            "image/png": "[encoded data removed]",
            "text/plain": [
              "<Figure size 1080x360 with 4 Axes>"
            ]
          },
          "metadata": {
            "tags": [],
            "needs_background": "light"
          }
        }
      ]
    },
    {
      "cell_type": "code",
      "metadata": {
        "id": "0tPLdFl7Y_89",
        "colab_type": "code",
        "colab": {
          "base_uri": "https://localhost:8080/",
          "height": 87
        },
        "outputId": "fb90c9a6-79c9-45e4-9b2b-3644258321b6"
      },
      "source": [
        "for par in layer.parameters():\n",
        "  print(par)"
      ],
      "execution_count": 9,
      "outputs": [
        {
          "output_type": "stream",
          "text": [
            "Parameter containing:\n",
            "tensor([[0.9342, 1.1894]], requires_grad=True)\n",
            "Parameter containing:\n",
            "tensor([-0.6703], requires_grad=True)\n"
          ],
          "name": "stdout"
        }
      ]
    },
    {
      "cell_type": "code",
      "metadata": {
        "id": "qGoNsil9auP3",
        "colab_type": "code",
        "colab": {}
      },
      "source": [
        "ratio = d1_pdf / (d1_pdf + d0_pdf)"
      ],
      "execution_count": 0,
      "outputs": []
    },
    {
      "cell_type": "code",
      "metadata": {
        "id": "wNaApOjjbGMi",
        "colab_type": "code",
        "colab": {}
      },
      "source": [
        "x_tensor = torch.tensor(pos.reshape(-1, 2), dtype=torch.float)\n",
        "with torch.no_grad():\n",
        "    dist = torch.sigmoid(layer(x_tensor)).numpy()\n",
        "dist = dist.reshape(-1, 120)"
      ],
      "execution_count": 0,
      "outputs": []
    },
    {
      "cell_type": "code",
      "metadata": {
        "id": "jNYiN2GKVIV5",
        "colab_type": "code",
        "colab": {
          "base_uri": "https://localhost:8080/",
          "height": 336
        },
        "outputId": "1f6ff502-a0a1-4b5c-902d-7357f57e9070"
      },
      "source": [
        "fig, (ax1, ax2) = plt.subplots(ncols=2, figsize=(15, 5))\n",
        "cntr1 = ax1.contourf(x, y, ratio, levels=10, cmap=\"RdBu_r\")\n",
        "fig.colorbar(cntr1, ax=ax1)\n",
        "ax1.set_title('ratio')\n",
        "cntr2 = ax2.contourf(x, y, dist, levels=10, cmap=\"RdBu_r\")\n",
        "fig.colorbar(cntr2, ax=ax2)\n",
        "ax2.set_title('dist')\n",
        "plt.subplots_adjust(wspace=0.5)"
      ],
      "execution_count": 12,
      "outputs": [
        {
          "output_type": "display_data",
          "data": {
            "image/png": "[encoded data removed]",
            "text/plain": [
              "<Figure size 1080x360 with 4 Axes>"
            ]
          },
          "metadata": {
            "tags": [],
            "needs_background": "light"
          }
        }
      ]
    },
    {
      "cell_type": "code",
      "metadata": {
        "id": "4-wdHmsdf5Sf",
        "colab_type": "code",
        "colab": {}
      },
      "source": [
        ""
      ],
      "execution_count": 0,
      "outputs": []
    }
  ]
}